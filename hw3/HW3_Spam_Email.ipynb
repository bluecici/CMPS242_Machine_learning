{
 "cells": [
  {
   "cell_type": "markdown",
   "metadata": {},
   "source": [
    "# CMPS 242 2017 Fall HW3 \n",
    "\n",
    "# Spam SMS Using Logistic Regression\n",
    "\n",
    "### *Group: Jiahui Wei(jwei19), Ran Xu(rxu3), Yunzheng Zhang(yzhan300)*"
   ]
  },
  {
   "cell_type": "markdown",
   "metadata": {},
   "source": [
    "## Homework Objective\n",
    "\n",
    "Use gradient descent to train a logistic regression model to identify spam SMS"
   ]
  },
  {
   "cell_type": "code",
   "execution_count": 1,
   "metadata": {
    "ExecuteTime": {
     "end_time": "2017-10-22T19:00:55.150770Z",
     "start_time": "2017-10-22T19:00:54.469487Z"
    }
   },
   "outputs": [],
   "source": [
    "import pandas as pd\n",
    "import numpy as np\n",
    "import matplotlib.pyplot as plt\n",
    "from nltk.corpus import stopwords\n",
    "from sklearn.feature_extraction.text import CountVectorizer, TfidfTransformer\n",
    "from sklearn.decomposition import PCA\n",
    "from sklearn.model_selection import KFold\n",
    "%matplotlib inline"
   ]
  },
  {
   "cell_type": "markdown",
   "metadata": {},
   "source": [
    "## TF-IDF\n",
    "\n",
    "TF-IDF storts for term frequency–inverse document frequency,  is a numerical statistic that is intended to reflect how important a word is to a document in a collection or corpus."
   ]
  },
  {
   "cell_type": "markdown",
   "metadata": {
    "ExecuteTime": {
     "end_time": "2017-10-24T01:34:07.286418Z",
     "start_time": "2017-10-24T00:57:37.018Z"
    }
   },
   "source": [
    "Load the data and set ham as 0, spam as 1."
   ]
  },
  {
   "cell_type": "code",
   "execution_count": 2,
   "metadata": {
    "ExecuteTime": {
     "end_time": "2017-10-22T19:00:55.167179Z",
     "start_time": "2017-10-22T19:00:55.152296Z"
    }
   },
   "outputs": [],
   "source": [
    "train_data = pd.read_csv(\"./data/train.csv\")\n",
    "train_data[\"label_num\"] = train_data.label.map({\"ham\": 0, \"spam\": 1})\n",
    "\n",
    "test_data = pd.read_csv('./data/test.csv')\n",
    "test_data[\"label_num\"] = test_data.label.map({\"ham\": 0, \"spam\": 1})\n",
    "\n",
    "X_train, y_train = train_data[\"sms\"], train_data[\"label_num\"]\n",
    "y_train = y_train.values.reshape(y_train.shape[0], 1)\n",
    "\n",
    "X_test, y_test = test_data[\"sms\"], test_data[\"label_num\"]\n",
    "y_test = y_test.values.reshape(y_test.shape[0], 1)"
   ]
  },
  {
   "cell_type": "markdown",
   "metadata": {
    "ExecuteTime": {
     "end_time": "2017-10-22T07:37:19.278796Z",
     "start_time": "2017-10-22T07:37:19.187263Z"
    }
   },
   "source": [
    "Use *CounterVectorizer* to tokenize the training data and transform both training data and test data to a feature vector."
   ]
  },
  {
   "cell_type": "code",
   "execution_count": 3,
   "metadata": {
    "ExecuteTime": {
     "end_time": "2017-10-22T19:00:55.360466Z",
     "start_time": "2017-10-22T19:00:55.168346Z"
    }
   },
   "outputs": [],
   "source": [
    "count_vec = CountVectorizer(\n",
    "    decode_error='ignore', stop_words=stopwords.words(\"english\"))\n",
    "X_train_count = count_vec.fit_transform(X_train)\n",
    "X_test_count = count_vec.transform(X_test)"
   ]
  },
  {
   "cell_type": "markdown",
   "metadata": {},
   "source": [
    "Use *TfidfTransformer* to transform the word count feature vector to tf-idf feature vector."
   ]
  },
  {
   "cell_type": "code",
   "execution_count": 4,
   "metadata": {
    "ExecuteTime": {
     "end_time": "2017-10-22T19:00:55.367306Z",
     "start_time": "2017-10-22T19:00:55.361747Z"
    }
   },
   "outputs": [],
   "source": [
    "tfidf_trans = TfidfTransformer()\n",
    "X_train_tfidf = tfidf_trans.fit_transform(X_train_count)\n",
    "X_test_tfidf = tfidf_trans.transform(X_test_count)"
   ]
  },
  {
   "cell_type": "markdown",
   "metadata": {},
   "source": [
    "Use *PCA* to reduce the feature dimensions to the same as the sample number"
   ]
  },
  {
   "cell_type": "code",
   "execution_count": 5,
   "metadata": {
    "ExecuteTime": {
     "end_time": "2017-10-22T19:01:17.297016Z",
     "start_time": "2017-10-22T19:00:55.368578Z"
    }
   },
   "outputs": [],
   "source": [
    "pca = PCA()\n",
    "X_train_tfidf_rd = pca.fit_transform(X_train_tfidf.toarray())\n",
    "X_test_tfidf_rd = pca.transform(X_test_tfidf.toarray())"
   ]
  },
  {
   "cell_type": "markdown",
   "metadata": {},
   "source": [
    "## Logistic Regression\n",
    "\n",
    "Use $\\lambda\\sum||\\omega||^2$ as the regularizer"
   ]
  },
  {
   "cell_type": "markdown",
   "metadata": {
    "ExecuteTime": {
     "end_time": "2017-10-22T18:53:44.782294Z",
     "start_time": "2017-10-22T18:40:22.629Z"
    }
   },
   "source": [
    "Define the sigmoid function."
   ]
  },
  {
   "cell_type": "code",
   "execution_count": 6,
   "metadata": {
    "ExecuteTime": {
     "end_time": "2017-10-22T19:01:17.319431Z",
     "start_time": "2017-10-22T19:01:17.314256Z"
    }
   },
   "outputs": [],
   "source": [
    "def sigmoid(Y):\n",
    "    return 1 / (1 + np.exp(-Y))"
   ]
  },
  {
   "cell_type": "markdown",
   "metadata": {},
   "source": [
    "Define the Gradient Decent function. Use a while loop to do GD and use the change of loss to determine whether to stop or not. Max number of iterations is set to prevent endless loop when not converged. \n",
    "\n",
    "Loss function:\n",
    "\n",
    "$$E(w)=-\\sum_{n=1}^N\\{t_n\\ln y_n+(1-t_n)\\ln(1-y_n)\\}+\\lambda ||\\omega||^2$$\n",
    "\n",
    "Gradient:\n",
    "\n",
    "$$\\nabla E(w)=\\sum^N_{n=1}(y_n-t_n)\\phi_n+\\lambda \\omega$$\n",
    "\n",
    "**Note**: If *y_predict* is very close to 1, like 0.9999999, the result *1-y_predict* is 0 which will cause nan when calculating $(1-y)*\\log(1-y)$. Therefore *n_y_predict* is set to prevent *1-y_predict* to be 0"
   ]
  },
  {
   "cell_type": "code",
   "execution_count": 263,
   "metadata": {
    "ExecuteTime": {
     "end_time": "2017-10-24T04:38:16.665466Z",
     "start_time": "2017-10-24T04:38:16.479027Z"
    }
   },
   "outputs": [],
   "source": [
    "def gradient_decent(X, y, w, lambda_):\n",
    "    iternum = 0\n",
    "    alpha = 0.9\n",
    "    max_iter = 10000\n",
    "    ita = 2\n",
    "    eps = 10**(-3)\n",
    "\n",
    "    y_predict = sigmoid(np.dot(X, w))\n",
    "    error = -sum(y * np.log(y_predict) +\n",
    "                 (1 - y) * np.log(1 - y_predict)) + lambda_ / 2.0 * np.dot(\n",
    "                     w.transpose(), w)\n",
    "\n",
    "    while iternum < max_iter:\n",
    "        iternum = iternum + 1\n",
    "\n",
    "        delta_w = np.dot(X.transpose(), (y_predict - y)) + w * lambda_\n",
    "        w = w - (ita * iternum**(-alpha) * delta_w)\n",
    "        y_predict = sigmoid(np.dot(X, w))\n",
    "        n_y_predict = 1 - y_predict\n",
    "        n_y_predict[n_y_predict < 10**(-5)] = 10**(-5)\n",
    "        new_error = -sum(y * np.log(y_predict) + (1 - y) * np.log(n_y_predict)\n",
    "                         ) + lambda_ / 2.0 * np.dot(w.transpose(), w)\n",
    "\n",
    "        if abs(error - new_error) < eps:\n",
    "            break\n",
    "        error = new_error\n",
    "\n",
    "\n",
    "#         if iternum%1000==0:\n",
    "#             print lambda_,error\n",
    "    print lambda_,iternum,error\n",
    "    return w"
   ]
  },
  {
   "cell_type": "markdown",
   "metadata": {},
   "source": [
    "Define a function to calculate the accuracy when $\\omega$ and data is provided"
   ]
  },
  {
   "cell_type": "code",
   "execution_count": 8,
   "metadata": {
    "ExecuteTime": {
     "end_time": "2017-10-22T19:01:17.517880Z",
     "start_time": "2017-10-22T19:01:17.418422Z"
    }
   },
   "outputs": [],
   "source": [
    "def cal_accuracy(X, w, t):\n",
    "    y = sigmoid(np.dot(X, w)) >= 0.5\n",
    "    return sum(y == t) * 1.0 / X.shape[0]"
   ]
  },
  {
   "cell_type": "markdown",
   "metadata": {},
   "source": [
    "Use *KFold* from sklearn to do 10-fold cross validation"
   ]
  },
  {
   "cell_type": "code",
   "execution_count": 9,
   "metadata": {
    "ExecuteTime": {
     "end_time": "2017-10-22T19:01:17.663241Z",
     "start_time": "2017-10-22T19:01:17.520833Z"
    }
   },
   "outputs": [],
   "source": [
    "def gen_10_fold(X):\n",
    "    kf = KFold(n_splits=10, shuffle=True)\n",
    "    indexes = []\n",
    "    for train, test in kf.split(X):\n",
    "        indexes.append([train, test])\n",
    "    return indexes"
   ]
  },
  {
   "cell_type": "markdown",
   "metadata": {},
   "source": [
    "Main cell for training. Use $\\lambda$ in range $[10^{-4},10]$ to find the best $\\lambda$ with highest accuracy on training data."
   ]
  },
  {
   "cell_type": "code",
   "execution_count": 18,
   "metadata": {
    "ExecuteTime": {
     "end_time": "2017-10-22T20:40:02.292490Z",
     "start_time": "2017-10-22T20:14:30.354488Z"
    },
    "scrolled": false
   },
   "outputs": [
    {
     "name": "stdout",
     "output_type": "stream",
     "text": [
      "0.01 0.846666666667\n",
      "0.0215443469003 0.840333333333\n",
      "0.0464158883361 0.831\n",
      "0.1 0.814333333333\n",
      "0.215443469003 0.793666666667\n",
      "0.464158883361 0.779333333333\n",
      "1.0 0.779333333333\n",
      "2.15443469003 0.788\n"
     ]
    },
    {
     "name": "stderr",
     "output_type": "stream",
     "text": [
      "/usr/local/lib/python2.7/dist-packages/ipykernel/__main__.py:2: RuntimeWarning: overflow encountered in exp\n",
      "  from ipykernel import kernelapp as app\n",
      "/usr/local/lib/python2.7/dist-packages/ipykernel/__main__.py:21: RuntimeWarning: divide by zero encountered in log\n"
     ]
    },
    {
     "name": "stdout",
     "output_type": "stream",
     "text": [
      "4.64158883361 0.801666666667\n"
     ]
    },
    {
     "name": "stderr",
     "output_type": "stream",
     "text": [
      "/usr/local/lib/python2.7/dist-packages/ipykernel/__main__.py:21: RuntimeWarning: invalid value encountered in multiply\n"
     ]
    },
    {
     "name": "stdout",
     "output_type": "stream",
     "text": [
      "10.0 0.804\n"
     ]
    }
   ],
   "source": [
    "num_lambda = 10\n",
    "\n",
    "split_indexes = gen_10_fold(X_train_tfidf_rd)\n",
    "accuracy_array = np.zeros((num_lambda, 10))\n",
    "\n",
    "lambda_list = np.logspace(-2, 1, num=num_lambda)\n",
    "\n",
    "for index, lambda_ in enumerate(lambda_list):\n",
    "    for i in range(10):\n",
    "        train_index = split_indexes[i][0]\n",
    "        test_index = split_indexes[i][1]\n",
    "        w = np.zeros((X_train_tfidf_rd.shape[1], 1))\n",
    "        X_train = X_train_tfidf_rd[train_index, :]\n",
    "        t_train = y_train[train_index, :]\n",
    "\n",
    "        X_test = X_train_tfidf_rd[test_index, :]\n",
    "        t_test = y_train[test_index, :]\n",
    "\n",
    "        w = gradient_decent(X_train, t_train, w, lambda_)\n",
    "        accuracy_array[index][i] = cal_accuracy(X_test, w, t_test)\n",
    "    print lambda_, sum(accuracy_array[index, :]) / 10"
   ]
  },
  {
   "cell_type": "markdown",
   "metadata": {},
   "source": [
    "Calculate the average cross validation accuracy for each lambda and plot the curve."
   ]
  },
  {
   "cell_type": "code",
   "execution_count": 247,
   "metadata": {
    "ExecuteTime": {
     "end_time": "2017-10-24T01:43:44.656479Z",
     "start_time": "2017-10-24T01:43:44.434568Z"
    },
    "scrolled": true
   },
   "outputs": [
    {
     "data": {
      "text/plain": [
       "Text(0.5,1,u'Effect of $\\\\lambda$ on Training a Logistic Regression of Spam SMS with 10-Fold Cross Validation')"
      ]
     },
     "execution_count": 247,
     "metadata": {},
     "output_type": "execute_result"
    },
    {
     "data": {
      "image/png": "[encoded data removed]",
      "text/plain": [
       "<matplotlib.figure.Figure at 0x7fe137d98750>"
      ]
     },
     "metadata": {},
     "output_type": "display_data"
    }
   ],
   "source": [
    "plt.errorbar(np.log10(lambda_list),np.average(accuracy_array,axis=1),yerr=np.std(accuracy_array,axis=1),ecolor='r')\n",
    "# plt.plot(lambda_list, accuracy_list)\n",
    "plt.xlabel('$\\lambda$ with base of 10')\n",
    "plt.ylabel('accuracy on validation set')\n",
    "plt.title('Effect of $\\lambda$ on Training a Logistic Regression of Spam SMS with 10-Fold Cross Validation')"
   ]
  },
  {
   "cell_type": "markdown",
   "metadata": {
    "ExecuteTime": {
     "end_time": "2017-10-24T01:34:07.291303Z",
     "start_time": "2017-10-24T01:17:27.667Z"
    }
   },
   "source": [
    "From the above plot we can see $\\lambda=0.01$ is the best \n",
    "\n",
    "\n",
    "| $\\lambda $| `0.01` | 0.0215443469003  |0.0464158883361|0.1|0.215443469003|0.464158883361|1.0|2.15443469003| 4.64158883361| 10.0|\n",
    "|:------:|:----:|:----:|:----:|:----:|:----:|:----:|:----:|:----:|:----:|:----:|\n",
    "| validation set    | **0.846667**|0.840333| 0.831| 0.814333| 0.793667| 0.779333| 0.779333|0.788| 0.801667|0.804|\n"
   ]
  },
  {
   "cell_type": "markdown",
   "metadata": {},
   "source": [
    "Use the $\\lambda$ with highest accuracy to train on the whole training data and test the accuracy on test data"
   ]
  },
  {
   "cell_type": "code",
   "execution_count": 264,
   "metadata": {
    "ExecuteTime": {
     "end_time": "2017-10-24T04:39:37.106097Z",
     "start_time": "2017-10-24T04:38:22.786746Z"
    },
    "scrolled": false
   },
   "outputs": [
    {
     "name": "stdout",
     "output_type": "stream",
     "text": [
      "0.01 6274 [[ 300.49854499]]\n",
      "Accuracy on whole training data: 99.9333333333%\n",
      "Accuracy on test data: 95.4121306376%\n"
     ]
    }
   ],
   "source": [
    "lambda_ = 0.01\n",
    "\n",
    "w = np.zeros((X_train_tfidf_rd.shape[1], 1))\n",
    "w = gradient_decent(X_train_tfidf_rd, y_train, w, lambda_)\n",
    "print 'Accuracy on whole training data: {}%'.format(cal_accuracy(X_train_tfidf_rd, w, y_train)[0]*100)\n",
    "print 'Accuracy on test data: {}%'.format(cal_accuracy(X_test_tfidf_rd, w, y_test)[0]*100)"
   ]
  },
  {
   "cell_type": "markdown",
   "metadata": {},
   "source": [
    "Logistic Regression takes about 6274 iterations and about 14.3 seconds to achieve 95.42% accuracy on the test data."
   ]
  },
  {
   "cell_type": "markdown",
   "metadata": {},
   "source": [
    "## Extra Credit 1\n",
    "\n",
    "### Add bias term\n",
    "\n",
    "Add a column of 1 to the data and add one more $\\omega$ to train. We do not add the bias term when regularizing the gradient"
   ]
  },
  {
   "cell_type": "code",
   "execution_count": 21,
   "metadata": {
    "ExecuteTime": {
     "end_time": "2017-10-22T20:40:08.283979Z",
     "start_time": "2017-10-22T20:40:08.214154Z"
    }
   },
   "outputs": [],
   "source": [
    "bias_tmp = np.ones((X_train_tfidf_rd.shape[0], 1))\n",
    "X_train_tfidf_bias = np.column_stack((bias_tmp, X_train_tfidf_rd))\n",
    "\n",
    "bias_tmp = np.ones((X_test_tfidf_rd.shape[0], 1))\n",
    "X_test_tfidf_bias = np.column_stack((bias_tmp, X_test_tfidf_rd))"
   ]
  },
  {
   "cell_type": "code",
   "execution_count": 305,
   "metadata": {
    "ExecuteTime": {
     "end_time": "2017-10-24T06:47:05.997046Z",
     "start_time": "2017-10-24T06:47:05.976351Z"
    }
   },
   "outputs": [],
   "source": [
    "def gradient_decent_bias(X, y, w, lambda_):\n",
    "    iternum = 0\n",
    "    alpha = 0.9\n",
    "    max_iter = 10000\n",
    "    ita = 2\n",
    "    eps = 10**(-3)\n",
    "\n",
    "    y_predict = sigmoid(np.dot(X, w))\n",
    "    error = -sum(y * np.log(y_predict) +\n",
    "                 (1 - y) * np.log(1-y_predict)) + lambda_ / 2.0 * np.dot(\n",
    "                     w[1:, 0].transpose(), w[1:, 0])\n",
    "\n",
    "    while iternum < max_iter:\n",
    "        iternum = iternum + 1\n",
    "\n",
    "        delta_w = np.dot(X.transpose(), (y_predict - y))\n",
    "        delta_w[1:, 0] = +w[1:, 0] * lambda_\n",
    "        w = w - (ita * iternum**(-alpha) * delta_w)\n",
    "        y_predict = sigmoid(np.dot(X, w))\n",
    "        y_predict[y_predict<10**(-5)] = 10**(-5)\n",
    "        n_y_predict = 1 - y_predict\n",
    "        n_y_predict[n_y_predict < 10**(-5)] = 10**(-5)\n",
    "        new_error = -sum(y * np.log(y_predict) + (\n",
    "            1 - y) * np.log(n_y_predict)) + lambda_ / 2.0 * np.dot(\n",
    "                w[1:, 0].transpose(), w[1:, 0])\n",
    "\n",
    "        if abs(error - new_error) < eps:\n",
    "            break\n",
    "        error = new_error\n",
    "\n",
    "\n",
    "#         if iternum%100==0:\n",
    "#             print lambda_,error\n",
    "#     print lambda_,iternum,error,w\n",
    "    return w"
   ]
  },
  {
   "cell_type": "code",
   "execution_count": 306,
   "metadata": {
    "ExecuteTime": {
     "end_time": "2017-10-24T07:00:54.578096Z",
     "start_time": "2017-10-24T06:47:07.300806Z"
    }
   },
   "outputs": [
    {
     "name": "stderr",
     "output_type": "stream",
     "text": [
      "/usr/local/lib/python2.7/dist-packages/ipykernel/__main__.py:2: RuntimeWarning: overflow encountered in exp\n",
      "  from ipykernel import kernelapp as app\n"
     ]
    },
    {
     "name": "stdout",
     "output_type": "stream",
     "text": [
      "0.01 0.861\n",
      "0.0215443469003 0.861\n",
      "0.0464158883361 0.861\n",
      "0.1 0.861\n",
      "0.215443469003 0.861\n",
      "0.464158883361 0.861\n",
      "1.0 0.861\n",
      "2.15443469003 0.861\n",
      "4.64158883361 0.861\n",
      "10.0 0.861\n"
     ]
    }
   ],
   "source": [
    "num_lambda = 10\n",
    "\n",
    "split_indexes = gen_10_fold(X_train_tfidf_bias)\n",
    "accuracy_array_bias = np.zeros((num_lambda, 10))\n",
    "\n",
    "lambda_list = np.logspace(-2, 1, num=num_lambda)\n",
    "\n",
    "for index, lambda_ in enumerate(lambda_list):\n",
    "    for i in range(10):\n",
    "        train_index = split_indexes[i][0]\n",
    "        test_index = split_indexes[i][1]\n",
    "        w = np.random.rand(X_train_tfidf_bias.shape[1], 1)\n",
    "        X_train = X_train_tfidf_bias[train_index, :]\n",
    "        t_train = y_train[train_index, :]\n",
    "\n",
    "        X_test = X_train_tfidf_bias[test_index, :]\n",
    "        t_test = y_train[test_index, :]\n",
    "\n",
    "        w = gradient_decent_bias(X_train, t_train, w, lambda_)\n",
    "        accuracy_array_bias[index][i] = cal_accuracy(X_test, w, t_test)\n",
    "    print lambda_, sum(accuracy_array_bias[index, :]) / 10"
   ]
  },
  {
   "cell_type": "code",
   "execution_count": 333,
   "metadata": {
    "ExecuteTime": {
     "end_time": "2017-10-24T17:17:40.961007Z",
     "start_time": "2017-10-24T17:17:40.821674Z"
    },
    "scrolled": false
   },
   "outputs": [
    {
     "data": {
      "text/plain": [
       "Text(0.5,1,u'Effect of $\\\\lambda$ on Training a Logistic Regression of Spam SMS with bias term')"
      ]
     },
     "execution_count": 333,
     "metadata": {},
     "output_type": "execute_result"
    },
    {
     "data": {
      "image/png": "[encoded data removed]",
      "text/plain": [
       "<matplotlib.figure.Figure at 0x7fe1377aefd0>"
      ]
     },
     "metadata": {},
     "output_type": "display_data"
    }
   ],
   "source": [
    "# plt.errorbar(np.log10(lambda_list),np.average(accuracy_array_bias,axis=1),yerr=np.std(accuracy_array_bias,axis=1),ecolor='r')\n",
    "plt.plot(lambda_list, np.average(accuracy_array_bias,axis=1))\n",
    "plt.xlabel('$\\lambda$ with base of 10')\n",
    "plt.ylabel('accuracy on validation set')\n",
    "plt.title('Effect of $\\lambda$ on Training a Logistic Regression of Spam SMS with bias term')"
   ]
  },
  {
   "cell_type": "markdown",
   "metadata": {
    "ExecuteTime": {
     "end_time": "2017-10-24T01:34:07.291303Z",
     "start_time": "2017-10-24T01:17:27.667Z"
    }
   },
   "source": [
    "From the above plot we can see all $\\lambda$ have the same result "
   ]
  },
  {
   "cell_type": "markdown",
   "metadata": {},
   "source": [
    "Use the $\\lambda$ with highest accuracy to train on the whole training data and test the accuracy on test data"
   ]
  },
  {
   "cell_type": "code",
   "execution_count": 341,
   "metadata": {
    "ExecuteTime": {
     "end_time": "2017-10-24T17:24:04.243346Z",
     "start_time": "2017-10-24T17:22:19.032976Z"
    },
    "scrolled": false
   },
   "outputs": [
    {
     "name": "stderr",
     "output_type": "stream",
     "text": [
      "/usr/local/lib/python2.7/dist-packages/ipykernel/__main__.py:2: RuntimeWarning: overflow encountered in exp\n",
      "  from ipykernel import kernelapp as app\n"
     ]
    },
    {
     "name": "stdout",
     "output_type": "stream",
     "text": [
      "Accuracy on whole training data: 85.7666666667%\n",
      "Accuracy on test data: 86.8973561431%\n"
     ]
    }
   ],
   "source": [
    "lambda_ = 0.01\n",
    "\n",
    "w = np.random.rand(X_train_tfidf_bias.shape[1], 1)\n",
    "w = gradient_decent_bias(X_train_tfidf_bias, y_train, w, lambda_)\n",
    "print 'Accuracy on whole training data: {}%'.format(cal_accuracy(X_train_tfidf_bias, w, y_train)[0]*100)\n",
    "print 'Accuracy on test data: {}%'.format(cal_accuracy(X_test_tfidf_bias, w, y_test)[0]*100)"
   ]
  },
  {
   "cell_type": "code",
   "execution_count": 331,
   "metadata": {
    "ExecuteTime": {
     "end_time": "2017-10-24T17:16:29.808704Z",
     "start_time": "2017-10-24T17:16:29.802921Z"
    },
    "scrolled": false
   },
   "outputs": [
    {
     "name": "stdout",
     "output_type": "stream",
     "text": [
      "[[-17.01531678]\n",
      " [  0.63737074]\n",
      " [  0.254575  ]\n",
      " ..., \n",
      " [  0.02611199]\n",
      " [  0.19443915]\n",
      " [  0.68790573]]\n"
     ]
    }
   ],
   "source": [
    "print w"
   ]
  },
  {
   "cell_type": "code",
   "execution_count": 340,
   "metadata": {
    "ExecuteTime": {
     "end_time": "2017-10-24T17:22:06.040539Z",
     "start_time": "2017-10-24T17:22:05.616513Z"
    },
    "scrolled": false
   },
   "outputs": [
    {
     "name": "stderr",
     "output_type": "stream",
     "text": [
      "/usr/local/lib/python2.7/dist-packages/ipykernel/__main__.py:2: RuntimeWarning: overflow encountered in exp\n",
      "  from ipykernel import kernelapp as app\n"
     ]
    },
    {
     "name": "stdout",
     "output_type": "stream",
     "text": [
      "Accuracy on whole training data: 86.1%\n",
      "Accuracy on test data: 87.1695178849%\n"
     ]
    }
   ],
   "source": [
    "lambda_ = 10\n",
    "\n",
    "w = np.random.rand(X_train_tfidf_bias.shape[1], 1)\n",
    "w = gradient_decent_bias(X_train_tfidf_bias, y_train, w, lambda_)\n",
    "print 'Accuracy on whole training data: {}%'.format(cal_accuracy(X_train_tfidf_bias, w, y_train)[0]*100)\n",
    "print 'Accuracy on test data: {}%'.format(cal_accuracy(X_test_tfidf_bias, w, y_test)[0]*100)"
   ]
  },
  {
   "cell_type": "code",
   "execution_count": 337,
   "metadata": {
    "ExecuteTime": {
     "end_time": "2017-10-24T17:19:49.712032Z",
     "start_time": "2017-10-24T17:19:49.708904Z"
    }
   },
   "outputs": [
    {
     "name": "stdout",
     "output_type": "stream",
     "text": [
      "[[ -5.68935470e+03]\n",
      " [ -5.60170546e-07]\n",
      " [ -8.78650205e-07]\n",
      " ..., \n",
      " [ -3.76902160e-07]\n",
      " [ -3.11439612e-07]\n",
      " [ -1.63683667e-07]]\n"
     ]
    }
   ],
   "source": [
    "print w"
   ]
  },
  {
   "cell_type": "markdown",
   "metadata": {},
   "source": [
    "You can see the $\\omega$ for the bias term is very big. In this case the regularization term is not as important as it is. Also it largely depends on the initialization. Therefore causing the performance to be similar on all $\\lambda$ choice."
   ]
  },
  {
   "cell_type": "markdown",
   "metadata": {},
   "source": [
    "## Extra Credit 2\n",
    "\n",
    "### Use Different Regularizer\n",
    "\n",
    "Regularizer used is $\\lambda ||\\omega||_1$"
   ]
  },
  {
   "cell_type": "code",
   "execution_count": 35,
   "metadata": {
    "ExecuteTime": {
     "end_time": "2017-10-22T21:49:37.945566Z",
     "start_time": "2017-10-22T21:49:37.920626Z"
    }
   },
   "outputs": [],
   "source": [
    "def gradient_decent_2(X, y, w, lambda_):\n",
    "    iternum = 0\n",
    "    alpha = 0.9\n",
    "    max_iter = 10000\n",
    "    ita = 2\n",
    "    eps = 10**(-3)\n",
    "\n",
    "    y_predict = sigmoid(np.dot(X, w))\n",
    "    error = -sum(y * np.log(y_predict) +\n",
    "                 (1 - y) * np.log(1 - y_predict)) + lambda_ * sum(\n",
    "                     np.absolute(w))\n",
    "\n",
    "    while iternum < max_iter:\n",
    "        iternum = iternum + 1\n",
    "\n",
    "        delta_w = np.dot(X.transpose(), (y_predict - y)) + lambda_\n",
    "        w = w - (ita * iternum**(-alpha) * delta_w)\n",
    "        y_predict = sigmoid(np.dot(X, w))\n",
    "        n_y_predict = 1 - y_predict\n",
    "        n_y_predict[n_y_predict < 10**(-5)] = 10**(-5)\n",
    "        new_error = -sum(y * np.log(y_predict) +\n",
    "                         (1 - y) * np.log(n_y_predict)) + lambda_ * sum(\n",
    "                             np.absolute(w))\n",
    "\n",
    "        if abs(error - new_error) < eps:\n",
    "            break\n",
    "        error = new_error\n",
    "\n",
    "\n",
    "#         if iternum%100==0:\n",
    "#             print lambda_,error\n",
    "#     print lambda_,iternum,error\n",
    "    return w"
   ]
  },
  {
   "cell_type": "code",
   "execution_count": 36,
   "metadata": {
    "ExecuteTime": {
     "end_time": "2017-10-23T01:38:56.230808Z",
     "start_time": "2017-10-22T21:49:37.947610Z"
    },
    "scrolled": true
   },
   "outputs": [
    {
     "name": "stdout",
     "output_type": "stream",
     "text": [
      "0.01 0.847333333333\n",
      "0.0215443469003 0.844666666667\n",
      "0.0464158883361 0.836333333333\n",
      "0.1 0.775666666667\n",
      "0.215443469003 0.715666666667\n",
      "0.464158883361 0.670333333333\n",
      "1.0 0.635333333333\n",
      "2.15443469003 0.604\n",
      "4.64158883361 0.584\n"
     ]
    },
    {
     "name": "stderr",
     "output_type": "stream",
     "text": [
      "/usr/local/lib/python2.7/dist-packages/ipykernel/__main__.py:2: RuntimeWarning: overflow encountered in exp\n",
      "  from ipykernel import kernelapp as app\n",
      "/usr/local/lib/python2.7/dist-packages/ipykernel/__main__.py:21: RuntimeWarning: divide by zero encountered in log\n",
      "/usr/local/lib/python2.7/dist-packages/ipykernel/__main__.py:21: RuntimeWarning: invalid value encountered in multiply\n"
     ]
    },
    {
     "name": "stdout",
     "output_type": "stream",
     "text": [
      "10.0 0.556333333333\n"
     ]
    }
   ],
   "source": [
    "num_lambda = 10\n",
    "\n",
    "split_indexes = gen_10_fold(X_train_tfidf_rd)\n",
    "accuracy_array_2 = np.zeros((num_lambda, 10))\n",
    "\n",
    "lambda_list = np.logspace(-2, 1, num=num_lambda)\n",
    "\n",
    "for index, lambda_ in enumerate(lambda_list):\n",
    "    for i in range(10):\n",
    "        train_index = split_indexes[i][0]\n",
    "        test_index = split_indexes[i][1]\n",
    "        w = np.zeros((X_train_tfidf_rd.shape[1], 1))\n",
    "        X_train = X_train_tfidf_rd[train_index, :]\n",
    "        t_train = y_train[train_index, :]\n",
    "\n",
    "        X_test = X_train_tfidf_rd[test_index, :]\n",
    "        t_test = y_train[test_index, :]\n",
    "\n",
    "        w = gradient_decent_2(X_train, t_train, w, lambda_)\n",
    "        accuracy_array_2[index][i] = cal_accuracy(X_test, w, t_test)\n",
    "    print lambda_, sum(accuracy_array_2[index, :]) / 10"
   ]
  },
  {
   "cell_type": "code",
   "execution_count": 252,
   "metadata": {
    "ExecuteTime": {
     "end_time": "2017-10-24T17:17:40.961007Z",
     "start_time": "2017-10-24T17:17:40.821674Z"
    },
    "scrolled": true
   },
   "outputs": [
    {
     "data": {
      "text/plain": [
       "Text(0.5,1,u'Effect of $\\\\lambda$ on Training a Logistic Regression of Spam SMS with Different Regularizer')"
      ]
     },
     "execution_count": 252,
     "metadata": {},
     "output_type": "execute_result"
    },
    {
     "data": {
      "image/png": "[encoded data removed]",
      "text/plain": [
       "<matplotlib.figure.Figure at 0x7fe137caf950>"
      ]
     },
     "metadata": {},
     "output_type": "display_data"
    }
   ],
   "source": [
    "plt.errorbar(np.log10(lambda_list),np.average(accuracy_array_2,axis=1),yerr=np.std(accuracy_array_2,axis=1),ecolor='r')\n",
    "# plt.plot(lambda_list, accuracy_list)\n",
    "plt.xlabel('$\\lambda$ with base of 10')\n",
    "plt.ylabel('accuracy on validation set')\n",
    "plt.title('Effect of $\\lambda$ on Training a Logistic Regression of Spam SMS with Different Regularizer')"
   ]
  },
  {
   "cell_type": "markdown",
   "metadata": {
    "ExecuteTime": {
     "end_time": "2017-10-24T01:34:07.291303Z",
     "start_time": "2017-10-24T01:17:27.667Z"
    }
   },
   "source": [
    "From the above plot we can see $\\lambda=0.01$ is the best \n",
    "\n",
    "| $\\lambda $| `0.01` | 0.0215443469003  |0.0464158883361|0.1|0.215443469003|0.464158883361|1.0|2.15443469003| 4.64158883361| 10.0|\n",
    "|:------:|:----:|:----:|:----:|:----:|:----:|:----:|:----:|:----:|:----:|:----:|\n",
    "| validation set    | **0.847333**|0.844667|0.836333| 0.775667| 0.715667| 0.670333| 0.635333|0.604|  0.584|0.556333|\n"
   ]
  },
  {
   "cell_type": "markdown",
   "metadata": {},
   "source": [
    "Use the $\\lambda$ with highest accuracy to train on the whole training data and test the accuracy on test data"
   ]
  },
  {
   "cell_type": "code",
   "execution_count": 262,
   "metadata": {
    "ExecuteTime": {
     "end_time": "2017-10-24T17:24:04.243346Z",
     "start_time": "2017-10-24T17:22:19.032976Z"
    },
    "scrolled": true
   },
   "outputs": [
    {
     "name": "stdout",
     "output_type": "stream",
     "text": [
      "Accuracy on whole training data: 99.9666666667%\n",
      "Accuracy on test data: 95.3732503888%\n"
     ]
    }
   ],
   "source": [
    "lambda_ = 0.01\n",
    "\n",
    "w = np.zeros((X_train_tfidf_rd.shape[1], 1))\n",
    "w = gradient_decent_2(X_train_tfidf_rd, y_train, w, lambda_)\n",
    "print 'Accuracy on whole training data: {}%'.format(cal_accuracy(X_train_tfidf_rd, w, y_train)[0]*100)\n",
    "print 'Accuracy on test data: {}%'.format(cal_accuracy(X_test_tfidf_rd, w, y_test)[0]*100)"
   ]
  },
  {
   "cell_type": "markdown",
   "metadata": {},
   "source": [
    "## Extra Credit 3\n",
    "\n",
    "### EG $\\pm$\n",
    "\n",
    "Use Exponentiated Gradient Decent for training and use two vector of $\\omega$, one for the positive parameter and one for the negative parameter.\n",
    "\n",
    "We use $w^+-w^-$ to replace $w$ in the loss function. Therefore we can use $\\frac{\\partial E(w^+-w^-)}{\\partial w}\\frac{\\partial w}{\\partial w^{\\pm}}$ when calculating the deravative."
   ]
  },
  {
   "cell_type": "code",
   "execution_count": 216,
   "metadata": {
    "ExecuteTime": {
     "end_time": "2017-10-23T18:12:11.473202Z",
     "start_time": "2017-10-23T18:12:11.445104Z"
    }
   },
   "outputs": [],
   "source": [
    "def exponentiated_gradient_decent(X, y, w_pos, w_neg, lambda_):\n",
    "    iternum = 0\n",
    "    alpha = 0.9\n",
    "    max_iter = 10000\n",
    "    ita = 0.1\n",
    "    eps = 10**(-3)\n",
    "\n",
    "    y_predict = sigmoid(np.dot(X, (w_pos - w_neg)))\n",
    "    error = -sum(y * np.log(y_predict) +\n",
    "                 (1 - y) * np.log(1 - y_predict)) + lambda_ / 2.0 * (\n",
    "                     np.dot(w_pos.transpose(), w_pos) +\n",
    "                     np.dot(w_neg.transpose(), w_neg))\n",
    "\n",
    "    while iternum < max_iter:\n",
    "        iternum = iternum + 1\n",
    "\n",
    "        delta_w_pos = np.dot(X.transpose(), (y_predict - y)) + w_pos * lambda_\n",
    "        w_pos = w_pos * np.exp(-ita * iternum**(-alpha) * delta_w_pos)\n",
    "\n",
    "        y_predict = sigmoid(np.dot(X, (w_pos - w_neg)))\n",
    "        delta_w_neg = -np.dot(X.transpose(), (y_predict - y)) - w_neg * lambda_\n",
    "        w_neg = w_neg * np.exp(ita * iternum**(-alpha) * delta_w_neg)\n",
    "\n",
    "        y_predict = sigmoid(np.dot(X, (w_pos - w_neg)))\n",
    "        n_y_predict = 1 - y_predict\n",
    "        n_y_predict[n_y_predict < 10**(-5)] = 10**(-5)\n",
    "        new_error = -sum(y * np.log(y_predict) + (\n",
    "            1 - y) * np.log(n_y_predict)) + lambda_ / 2.0 * np.dot(\n",
    "                (w_pos - w_neg).transpose(), (w_pos - w_neg))\n",
    "\n",
    "        if abs(error - new_error) < eps:\n",
    "            break\n",
    "        error = new_error\n",
    "\n",
    "#         if iternum % 1000 == 0:\n",
    "#             print lambda_, error\n",
    "\n",
    "\n",
    "#     print lambda_,iternum,error\n",
    "    return w_pos,w_neg"
   ]
  },
  {
   "cell_type": "code",
   "execution_count": 225,
   "metadata": {
    "ExecuteTime": {
     "end_time": "2017-10-23T19:02:38.783774Z",
     "start_time": "2017-10-23T18:14:27.673210Z"
    }
   },
   "outputs": [
    {
     "name": "stdout",
     "output_type": "stream",
     "text": [
      "0.01 0.831333333333\n",
      "0.0215443469003 0.832333333333\n",
      "0.0464158883361 0.826666666667\n",
      "0.1 0.824333333333\n",
      "0.215443469003 0.816666666667\n",
      "0.464158883361 0.536\n",
      "1.0 0.439\n",
      "2.15443469003 0.431\n",
      "4.64158883361 0.459666666667\n",
      "10.0 0.437333333333\n"
     ]
    }
   ],
   "source": [
    "num_lambda = 10\n",
    "\n",
    "split_indexes = gen_10_fold(X_train_tfidf_rd)\n",
    "accuracy_array_eg = np.zeros((num_lambda, 10))\n",
    "\n",
    "lambda_list = np.logspace(-2, 1, num=num_lambda)\n",
    "\n",
    "for index, lambda_ in enumerate(lambda_list):\n",
    "    for i in range(10):\n",
    "        train_index = split_indexes[i][0]\n",
    "        test_index = split_indexes[i][1]\n",
    "\n",
    "        w_pos = np.ones((X_train_tfidf_rd.shape[1], 1))\n",
    "        w_neg = np.ones((X_train_tfidf_rd.shape[1], 1))\n",
    "        X_train = X_train_tfidf_rd[train_index, :]\n",
    "        t_train = y_train[train_index, :]\n",
    "\n",
    "        X_test = X_train_tfidf_rd[test_index, :]\n",
    "        t_test = y_train[test_index, :]\n",
    "\n",
    "        w_pos,w_neg = exponentiated_gradient_decent(X_train, t_train, w_pos, w_neg,\n",
    "                                          lambda_)\n",
    "        accuracy_array_eg[index][i] = cal_accuracy(X_test, w_pos - w_neg, t_test)\n",
    "    print lambda_, sum(accuracy_array_eg[index, :]) / 10"
   ]
  },
  {
   "cell_type": "code",
   "execution_count": 254,
   "metadata": {
    "ExecuteTime": {
     "end_time": "2017-10-24T17:17:40.961007Z",
     "start_time": "2017-10-24T17:17:40.821674Z"
    },
    "scrolled": true
   },
   "outputs": [
    {
     "data": {
      "text/plain": [
       "Text(0.5,1,u'Effect of $\\\\lambda$ on Training a Logistic Regression of Spam SMS with EG $\\\\pm$')"
      ]
     },
     "execution_count": 254,
     "metadata": {},
     "output_type": "execute_result"
    },
    {
     "data": {
      "image/png": "[encoded data removed]",
      "text/plain": [
       "<matplotlib.figure.Figure at 0x7fe137b77090>"
      ]
     },
     "metadata": {},
     "output_type": "display_data"
    }
   ],
   "source": [
    "plt.errorbar(np.log10(lambda_list),np.average(accuracy_array_eg,axis=1),yerr=np.std(accuracy_array_eg,axis=1),ecolor='r')\n",
    "# plt.plot(lambda_list, accuracy_list)\n",
    "plt.xlabel('$\\lambda$ with base of 10')\n",
    "plt.ylabel('accuracy on validation set')\n",
    "plt.title('Effect of $\\lambda$ on Training a Logistic Regression of Spam SMS with EG $\\pm$')"
   ]
  },
  {
   "cell_type": "markdown",
   "metadata": {
    "ExecuteTime": {
     "end_time": "2017-10-24T01:34:07.291303Z",
     "start_time": "2017-10-24T01:17:27.667Z"
    }
   },
   "source": [
    "From the above plot we can see $\\lambda=0.0464158883361$ is the best \n",
    "\n",
    "| $\\lambda $| 0.01 | 0.0215443469003  |`0.0464158883361`|0.1|0.215443469003|0.464158883361|1.0|2.15443469003| 4.64158883361| 10.0|\n",
    "|:------:|:----:|:----:|:----:|:----:|:----:|:----:|:----:|:----:|:----:|:----:|\n",
    "| validation set    | 0.831333|0.832333|**0.826667**| 0.824333|0.816667|0.536| 0.439|0.431| 0.459667|0.437333|\n"
   ]
  },
  {
   "cell_type": "markdown",
   "metadata": {},
   "source": [
    "Use the $\\lambda$ with highest accuracy to train on the whole training data and test the accuracy on test data"
   ]
  },
  {
   "cell_type": "code",
   "execution_count": 261,
   "metadata": {
    "ExecuteTime": {
     "end_time": "2017-10-24T17:24:04.243346Z",
     "start_time": "2017-10-24T17:22:19.032976Z"
    },
    "scrolled": true
   },
   "outputs": [
    {
     "name": "stdout",
     "output_type": "stream",
     "text": [
      "Accuracy on whole training data: 83.7333333333%\n",
      "Accuracy on test data: 81.8040435459%\n"
     ]
    }
   ],
   "source": [
    "lambda_ = 0.0464158883361\n",
    "\n",
    "w_pos = np.ones((X_train_tfidf_rd.shape[1], 1))\n",
    "w_neg = np.ones((X_train_tfidf_rd.shape[1], 1))\n",
    "w_pos,w_neg = exponentiated_gradient_decent(X_train_tfidf_rd, y_train, w_pos,w_neg, lambda_)\n",
    "print 'Accuracy on whole training data: {}%'.format(cal_accuracy(X_train_tfidf_rd, (w_pos-w_neg), y_train)[0]*100)\n",
    "print 'Accuracy on test data: {}%'.format(cal_accuracy(X_test_tfidf_rd, (w_pos-w_neg), y_test)[0]*100)"
   ]
  },
  {
   "cell_type": "markdown",
   "metadata": {},
   "source": [
    "## Extra Credit 4\n",
    "\n",
    "### Weighted Linear Least Squares"
   ]
  },
  {
   "cell_type": "markdown",
   "metadata": {},
   "source": [
    "The main idea is the same. We use \n",
    "\n",
    "$$w=w-H^{-1}\\nabla E(w)$$\n",
    "\n",
    "to change $w$.\n",
    "\n",
    "And $H=\\nabla\\nabla E(w)=\\Phi^TR\\Phi$.\n",
    "\n",
    "When add regularization term, we will introduce a diagnol matrix $\\lambda I$, where $I$ is a identity matrix.\n",
    "\n",
    "$$H=\\Phi^T R\\Phi+\\lambda I$$"
   ]
  },
  {
   "cell_type": "code",
   "execution_count": 327,
   "metadata": {
    "ExecuteTime": {
     "end_time": "2017-10-24T16:41:55.462061Z",
     "start_time": "2017-10-24T16:41:55.433652Z"
    }
   },
   "outputs": [],
   "source": [
    "def gradient_decent_lls(X, y, w, lambda_):\n",
    "    iternum = 0\n",
    "    alpha = 0.9\n",
    "    max_iter = 10000\n",
    "    ita = 1\n",
    "    eps = 10**(-3)\n",
    "\n",
    "    y_predict = sigmoid(np.dot(X, w))\n",
    "    n_y_predict = 1 - y_predict\n",
    "    n_y_predict[n_y_predict < 10**(-5)] = 10**(-5)\n",
    "    error = -sum(y * np.log(y_predict) +\n",
    "                 (1 - y) * np.log(n_y_predict)) + lambda_ / 2.0 * np.dot(\n",
    "                     w.transpose(), w)\n",
    "\n",
    "    while iternum < max_iter:\n",
    "        iternum = iternum + 1\n",
    "\n",
    "        R = np.diag((y_predict * n_y_predict).flatten())\n",
    "        diag_lambda = np.zeros((w.shape[0],w.shape[0]))\n",
    "        np.fill_diagonal(diag_lambda,lambda_)\n",
    "        H = np.dot(np.dot(X.transpose(), R), X)+diag_lambda\n",
    "        delta_w = np.dot(X.transpose(), (y_predict - y)) + w * lambda_\n",
    "        w = w - ita*iternum**(-alpha)*np.dot(np.linalg.inv(H), delta_w)\n",
    "        y_predict = sigmoid(np.dot(X, w))\n",
    "        n_y_predict = 1 - y_predict\n",
    "        n_y_predict[n_y_predict < 10**(-5)] = 10**(-5)\n",
    "        new_error = -sum(y * np.log(y_predict) + (1 - y) * np.log(n_y_predict)\n",
    "                         ) + lambda_ / 2.0 * np.dot(w.transpose(), w)\n",
    "\n",
    "        if abs(error - new_error) < eps:\n",
    "            break\n",
    "        error = new_error\n",
    "\n",
    "#         if iternum % 100 == 0:\n",
    "#             print lambda_, error\n",
    "\n",
    "\n",
    "    print \"Iteration number: {}, stop error: {}\".format(iternum,error)\n",
    "    return w"
   ]
  },
  {
   "cell_type": "code",
   "execution_count": 307,
   "metadata": {
    "ExecuteTime": {
     "end_time": "2017-10-24T08:58:54.198876Z",
     "start_time": "2017-10-24T07:00:54.584293Z"
    },
    "scrolled": true
   },
   "outputs": [
    {
     "name": "stdout",
     "output_type": "stream",
     "text": [
      "0.01 0.783\n",
      "0.0278255940221 0.778\n",
      "0.0774263682681 0.775333333333\n",
      "0.215443469003 0.775\n",
      "0.599484250319 0.768\n",
      "1.6681005372 0.780333333333\n",
      "4.64158883361 0.791666666667\n",
      "12.9154966501 0.799333333333\n",
      "35.938136638 0.801666666667\n",
      "100.0 0.801666666667\n"
     ]
    }
   ],
   "source": [
    "num_lambda = 10\n",
    "\n",
    "split_indexes = gen_10_fold(X_train_tfidf_rd)\n",
    "accuracy_array_lls = np.zeros((num_lambda, 10))\n",
    "\n",
    "lambda_list = np.logspace(-2, 2, num=num_lambda)\n",
    "\n",
    "for index, lambda_ in enumerate(lambda_list):\n",
    "    for i in range(10):\n",
    "        train_index = split_indexes[i][0]\n",
    "        test_index = split_indexes[i][1]\n",
    "        w = np.zeros((X_train_tfidf_rd.shape[1], 1))\n",
    "        X_train = X_train_tfidf_rd[train_index, :]\n",
    "        t_train = y_train[train_index, :]\n",
    "\n",
    "        X_test = X_train_tfidf_rd[test_index, :]\n",
    "        t_test = y_train[test_index, :]\n",
    "\n",
    "        w = gradient_decent_lls(X_train, t_train, w, lambda_)\n",
    "        accuracy_array_lls[index][i] = cal_accuracy(X_test, w, t_test)\n",
    "    print lambda_, sum(accuracy_array_lls[index, :]) / 10"
   ]
  },
  {
   "cell_type": "code",
   "execution_count": 309,
   "metadata": {
    "ExecuteTime": {
     "end_time": "2017-10-24T17:17:40.961007Z",
     "start_time": "2017-10-24T17:17:40.821674Z"
    },
    "scrolled": true
   },
   "outputs": [
    {
     "data": {
      "text/plain": [
       "Text(0.5,1,u'Effect of $\\\\lambda$ on Training a Logistic Regression of Spam SMS with 10-Fold Cross Validation')"
      ]
     },
     "execution_count": 309,
     "metadata": {},
     "output_type": "execute_result"
    },
    {
     "data": {
      "image/png": "[encoded data removed]",
      "text/plain": [
       "<matplotlib.figure.Figure at 0x7fe137e8ded0>"
      ]
     },
     "metadata": {},
     "output_type": "display_data"
    }
   ],
   "source": [
    "plt.errorbar(np.log10(lambda_list),np.average(accuracy_array_lls,axis=1),yerr=np.std(accuracy_array_lls,axis=1),ecolor='r')\n",
    "# plt.plot(lambda_list, accuracy_list)\n",
    "plt.xlabel('$\\lambda$ with base of 10')\n",
    "plt.ylabel('accuracy on validation set')\n",
    "plt.title('Effect of $\\lambda$ on Training a Logistic Regression of Spam SMS with 10-Fold Cross Validation')"
   ]
  },
  {
   "cell_type": "markdown",
   "metadata": {
    "ExecuteTime": {
     "end_time": "2017-10-24T01:34:07.291303Z",
     "start_time": "2017-10-24T01:17:27.667Z"
    }
   },
   "source": [
    "From the above plot we can see $\\lambda=100$ and $\\lambda=35.938136638$ is the best, but after future analysis, this is not true.\n",
    "\n",
    "| $\\lambda $| 0.01 |0.0278255940221|0.0774263682681|0.215443469003|0.599484250319|1.6681005372|4.64158883361|12.9154966501| `35.938136638`| `100.0`|\n",
    "|:------:|:----:|:----:|:----:|:----:|:----:|:----:|:----:|:----:|:----:|:----:|\n",
    "| validation set    | 0.783| 0.778|0.775333| 0.775| 0.768|  0.780333| 0.779333|0.799333|**0.801667**|**0.801667**|\n"
   ]
  },
  {
   "cell_type": "markdown",
   "metadata": {},
   "source": [
    "Use the $\\lambda$ with highest accuracy to train on the whole training data and test the accuracy on test data"
   ]
  },
  {
   "cell_type": "code",
   "execution_count": 328,
   "metadata": {
    "ExecuteTime": {
     "end_time": "2017-10-24T17:24:04.243346Z",
     "start_time": "2017-10-24T17:22:19.032976Z"
    },
    "scrolled": true
   },
   "outputs": [
    {
     "name": "stdout",
     "output_type": "stream",
     "text": [
      "Iteration number: 127, stop error: [[ 284.97496985]]\n",
      "Accuracy on whole training data: 100.0%\n",
      "Accuracy on test data: 95.7231726283%\n"
     ]
    }
   ],
   "source": [
    "lambda_ = 0.01\n",
    "\n",
    "w = np.zeros((X_train_tfidf_rd.shape[1], 1))\n",
    "w = gradient_decent_lls(X_train_tfidf_rd, y_train, w, lambda_)\n",
    "print 'Accuracy on whole training data: {}%'.format(cal_accuracy(X_train_tfidf_rd, w, y_train)[0]*100)\n",
    "print 'Accuracy on test data: {}%'.format(cal_accuracy(X_test_tfidf_rd, w, y_test)[0]*100)"
   ]
  },
  {
   "cell_type": "code",
   "execution_count": 329,
   "metadata": {
    "ExecuteTime": {
     "end_time": "2017-10-24T16:48:38.833317Z",
     "start_time": "2017-10-24T16:48:34.585129Z"
    },
    "scrolled": true
   },
   "outputs": [
    {
     "name": "stdout",
     "output_type": "stream",
     "text": [
      "Iteration number: 2, stop error: [[ 2033.24406182]]\n",
      "Accuracy on whole training data: 89.0%\n",
      "Accuracy on test data: 87.2083981337%\n"
     ]
    }
   ],
   "source": [
    "lambda_ = 35.938136638\n",
    "\n",
    "w = np.zeros((X_train_tfidf_rd.shape[1], 1))\n",
    "w = gradient_decent_lls(X_train_tfidf_rd, y_train, w, lambda_)\n",
    "print 'Accuracy on whole training data: {}%'.format(cal_accuracy(X_train_tfidf_rd, w, y_train)[0]*100)\n",
    "print 'Accuracy on test data: {}%'.format(cal_accuracy(X_test_tfidf_rd, w, y_test)[0]*100)"
   ]
  },
  {
   "cell_type": "markdown",
   "metadata": {},
   "source": [
    "From the above test we can see, LLS does use less iterations, about 127 to reach converge.\n",
    "\n",
    "From the above we can see, when we use larger $\\lambda$, it increase the validation accuracy, but the error is large because larger lambda means larger amount of weight $\\omega$ plays in the loss. We can see it use only 2 iterations as the most of the loss is introduced by $\\omega$.\n",
    "\n",
    "When using smaller $\\lambda$, we reduce the error to fit on the data. In this way, we have lower validation accuracy compared with too large $\\lambda$.\n",
    "\n",
    "Therefore, we should use $\\lambda$ smaller than 4.64158883361, as the accuracy increase because of larger $\\lambda$. From the plot we draw, we can see the best $\\lambda$ is 0.01 and is consistent with the previous result. "
   ]
  },
  {
   "cell_type": "markdown",
   "metadata": {},
   "source": [
    "## Extra Credit 5\n",
    "\n",
    "### Stochastic Gradient Descent\n",
    "\n",
    "Use Stochastic Gradient Descent to train the data and see the converge speed."
   ]
  },
  {
   "cell_type": "code",
   "execution_count": 228,
   "metadata": {
    "ExecuteTime": {
     "end_time": "2017-10-23T19:08:32.056413Z",
     "start_time": "2017-10-23T19:08:32.044094Z"
    }
   },
   "outputs": [],
   "source": [
    "def stochastic_gradient_decent(X, y, w, lambda_):\n",
    "    #     iternum = 0\n",
    "    alpha = 0.9\n",
    "    #     max_iter = 10000\n",
    "    ita = 2\n",
    "\n",
    "    for i in range(X.shape[0]):\n",
    "        y_predict = sigmoid(np.dot(X[i, :], w))\n",
    "        delta_w = X[i, :] * (y_predict - y[i]) + lambda_ * w\n",
    "        w = w - (ita * (i + 1)**(1 - alpha) * delta_w)\n",
    "\n",
    "        test_w = w.reshape(X.shape[1], 1)\n",
    "        y_predict = sigmoid(np.dot(X, test_w))\n",
    "        n_y_predict = 1 - y_predict\n",
    "        n_y_predict[n_y_predict < 10**(-5)] = 10**(-5)\n",
    "        error = -sum(y * np.log(y_predict) +\n",
    "                     (1 - y) * np.log(n_y_predict)) + lambda_ / 2.0 * np.dot(\n",
    "                         test_w.transpose(), test_w)\n",
    "\n",
    "\n",
    "#         if i % 1000 == 0:\n",
    "#             print lambda_, error\n",
    "#     print lambda_, error\n",
    "    return w"
   ]
  },
  {
   "cell_type": "code",
   "execution_count": 233,
   "metadata": {
    "ExecuteTime": {
     "end_time": "2017-10-24T00:04:37.214855Z",
     "start_time": "2017-10-23T23:30:11.875156Z"
    }
   },
   "outputs": [
    {
     "name": "stdout",
     "output_type": "stream",
     "text": [
      "1e-05 0.798666666667\n",
      "2.78255940221e-05 0.793\n",
      "7.74263682681e-05 0.779666666667\n",
      "0.000215443469003 0.751\n",
      "0.000599484250319 0.693666666667\n",
      "0.0016681005372 0.654\n",
      "0.00464158883361 0.605666666667\n",
      "0.0129154966501 0.535\n",
      "0.035938136638 0.443666666667\n",
      "0.1 0.348666666667\n"
     ]
    }
   ],
   "source": [
    "num_lambda = 10\n",
    "\n",
    "split_indexes = gen_10_fold(X_train_tfidf_rd)\n",
    "accuracy_array_sgd = np.zeros((num_lambda, 10))\n",
    "\n",
    "lambda_list = np.logspace(-5, -1, num=num_lambda)\n",
    "\n",
    "for index, lambda_ in enumerate(lambda_list):\n",
    "    for i in range(10):\n",
    "        train_index = split_indexes[i][0]\n",
    "        test_index = split_indexes[i][1]\n",
    "        w = np.zeros((X_train_tfidf_rd.shape[1]))\n",
    "        X_train = X_train_tfidf_rd[train_index, :]\n",
    "        t_train = y_train[train_index, :]\n",
    "\n",
    "        X_test = X_train_tfidf_rd[test_index, :]\n",
    "        t_test = y_train[test_index, :]\n",
    "\n",
    "        w = stochastic_gradient_decent(X_train, t_train, w, lambda_)\n",
    "        w = w.reshape(X_train_tfidf_rd.shape[1], 1)\n",
    "        accuracy_array_sgd[index][i] = cal_accuracy(X_test, w, t_test)\n",
    "    print lambda_, sum(accuracy_array_sgd[index, :]) / 10"
   ]
  },
  {
   "cell_type": "code",
   "execution_count": 258,
   "metadata": {
    "ExecuteTime": {
     "end_time": "2017-10-24T17:17:40.961007Z",
     "start_time": "2017-10-24T17:17:40.821674Z"
    },
    "scrolled": true
   },
   "outputs": [
    {
     "data": {
      "text/plain": [
       "Text(0.5,1,u'Effect of $\\\\lambda$ on Training a Logistic Regression of Spam SMS with Stochastic Gradient Descent')"
      ]
     },
     "execution_count": 258,
     "metadata": {},
     "output_type": "execute_result"
    },
    {
     "data": {
      "image/png": "[encoded data removed]",
      "text/plain": [
       "<matplotlib.figure.Figure at 0x7fe137b6c690>"
      ]
     },
     "metadata": {},
     "output_type": "display_data"
    }
   ],
   "source": [
    "plt.errorbar(np.log10(lambda_list),np.average(accuracy_array_sgd,axis=1),yerr=np.std(accuracy_array_sgd,axis=1),ecolor='r')\n",
    "# plt.plot(lambda_list, accuracy_list)\n",
    "plt.xlabel('$\\lambda$ with base of 10')\n",
    "plt.ylabel('accuracy on validation set')\n",
    "plt.title('Effect of $\\lambda$ on Training a Logistic Regression of Spam SMS with Stochastic Gradient Descent')"
   ]
  },
  {
   "cell_type": "markdown",
   "metadata": {
    "ExecuteTime": {
     "end_time": "2017-10-24T01:34:07.291303Z",
     "start_time": "2017-10-24T01:17:27.667Z"
    }
   },
   "source": [
    "From the above plot we can see $\\lambda=10^{-5}$ is the best \n",
    "\n",
    "| $\\lambda $| `1e-05` | 2.78255940221e-05  |7.74263682681e-05|0.000215443469003|0.000599484250319|0.0016681005372|0.00464158883361|0.0129154966501| 0.035938136638| 0.1|\n",
    "|:------:|:----:|:----:|:----:|:----:|:----:|:----:|:----:|:----:|:----:|:----:|\n",
    "| validation set    | **0.798667**| 0.793|0.779667| 0.751|  0.693667| 0.654| 0.605667| 0.535| 0.443667| 0.348667|\n"
   ]
  },
  {
   "cell_type": "markdown",
   "metadata": {},
   "source": [
    "Use the $\\lambda$ with highest accuracy to train on the whole training data and test the accuracy on test data"
   ]
  },
  {
   "cell_type": "code",
   "execution_count": 260,
   "metadata": {
    "ExecuteTime": {
     "end_time": "2017-10-24T17:24:04.243346Z",
     "start_time": "2017-10-24T17:22:19.032976Z"
    },
    "scrolled": true
   },
   "outputs": [
    {
     "name": "stdout",
     "output_type": "stream",
     "text": [
      "Accuracy on whole training data: 94.6333333333%\n",
      "Accuracy on test data: 91.7962674961%\n"
     ]
    }
   ],
   "source": [
    "lambda_ = 10**(-5)\n",
    "\n",
    "w = np.zeros((X_train_tfidf_rd.shape[1]))\n",
    "w = stochastic_gradient_decent(X_train_tfidf_rd, y_train, w, lambda_)\n",
    "w = w.reshape(X_train_tfidf_rd.shape[1], 1)\n",
    "print 'Accuracy on whole training data: {}%'.format(cal_accuracy(X_train_tfidf_rd, w, y_train)[0]*100)\n",
    "print 'Accuracy on test data: {}%'.format(cal_accuracy(X_test_tfidf_rd, w, y_test)[0]*100)"
   ]
  },
  {
   "cell_type": "markdown",
   "metadata": {},
   "source": [
    "The time used for SGD is 23 secons and iteration number is 3000 (the number of samples).\n",
    "\n",
    "You can see SGD can achieve similar performance with much fewer iterations.\n",
    "\n",
    "The time used for SGD is longer because it's using for loop instead of matrix operation which is highly optimized in numpy. For larger number of data, we think SGD will save a lot of time."
   ]
  }
 ],
 "metadata": {
  "kernelspec": {
   "display_name": "Python 2",
   "language": "python",
   "name": "python2"
  },
  "language_info": {
   "codemirror_mode": {
    "name": "ipython",
    "version": 2
   },
   "file_extension": ".py",
   "mimetype": "text/x-python",
   "name": "python",
   "nbconvert_exporter": "python",
   "pygments_lexer": "ipython2",
   "version": "2.7.12"
  }
 },
 "nbformat": 4,
 "nbformat_minor": 2
}
